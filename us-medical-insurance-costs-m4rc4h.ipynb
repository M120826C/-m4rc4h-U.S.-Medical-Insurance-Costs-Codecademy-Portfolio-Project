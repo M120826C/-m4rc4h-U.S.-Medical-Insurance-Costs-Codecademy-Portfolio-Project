{
 "cells": [
  {
   "cell_type": "code",
   "execution_count": 1,
   "id": "b4919cc8-da4d-468a-8384-0d98fa963e36",
   "metadata": {},
   "outputs": [],
   "source": [
    "#read and prepare data to analize\n",
    "\n",
    "import csv\n",
    "age = []\n",
    "sex = []\n",
    "bmi = []\n",
    "children = []\n",
    "smoker = []\n",
    "region = []\n",
    "charges = []\n",
    "\n",
    "\n",
    "with open('insurance.csv') as insurance_csv:\n",
    "    #print(insurance_csv.read())\n",
    "    insurance_csv_dict = csv.DictReader(insurance_csv)\n",
    "    for row in insurance_csv_dict:\n",
    "        age.append(int(row['age']))\n",
    "        sex.append(row['sex'])\n",
    "        bmi.append(float(row['bmi']))\n",
    "        children.append(int(row['children']))\n",
    "        smoker.append(row['smoker'])\n",
    "        region.append(row['region'])\n",
    "        charges.append(float(row['charges']))\n",
    "\n"
   ]
  },
  {
   "cell_type": "code",
   "execution_count": 2,
   "id": "a1cd3088-65b1-4b51-8fa7-63726ad25d94",
   "metadata": {},
   "outputs": [
    {
     "name": "stdout",
     "output_type": "stream",
     "text": [
      "The average age of our clients is:39.21\n",
      "Our oldest client is 64 years old\n",
      "Our youngest client is 18 years old\n"
     ]
    }
   ],
   "source": [
    "#analize age of clients\n",
    "average_age = (sum(age)/len(age))\n",
    "print('The average age of our clients is:' + str(round(average_age, 2)))\n",
    "\n",
    "max_age = max(age)\n",
    "print('Our oldest client is ' + str(max_age) + ' years old')\n",
    "\n",
    "min_age = min(age)\n",
    "print('Our youngest client is ' + str(min_age) + ' years old')"
   ]
  },
  {
   "cell_type": "code",
   "execution_count": 3,
   "id": "939b6f4d-993b-4dcf-984f-b14f29786e42",
   "metadata": {},
   "outputs": [
    {
     "name": "stdout",
     "output_type": "stream",
     "text": [
      "662 of our clients are female and 676 of our clients are male.\n"
     ]
    }
   ],
   "source": [
    "#count clients by sex\n",
    "female_count = 0\n",
    "male_count = 0\n",
    "for i in sex:\n",
    "    if i == 'female':\n",
    "        female_count += 1\n",
    "    else:\n",
    "        male_count += 1\n",
    "\n",
    "print(str(female_count) + ' of our clients are female and ' + str(male_count)  + ' of our clients are male.')"
   ]
  },
  {
   "cell_type": "code",
   "execution_count": 4,
   "id": "263d53d0-00b6-452d-9658-b1457a77cdf0",
   "metadata": {},
   "outputs": [
    {
     "name": "stdout",
     "output_type": "stream",
     "text": [
      "Based on health risk classification according to BMI, currently we have: \n",
      "222 clients with least risk of developing health problems,\n",
      "400 clients with increased risk of developing health problems,\n",
      "397 clients with high risk of developing health problems,\n",
      "226 clients with very high risk of developing health problems and \n",
      "93 clients with extremely high risk of developing health problems.\n"
     ]
    }
   ],
   "source": [
    "#classifying clients health risk by bmi\n",
    "BMI_category = {'a': 18.5, 'b': 24.9, 'c': 29.9, 'd': 34.9, 'e':39.9}\n",
    "\n",
    "least = 0\n",
    "increased = 0\n",
    "high = 0\n",
    "very_high = 0\n",
    "extremely_high =0\n",
    "\n",
    "for i in bmi:\n",
    "    if i < BMI_category['a']:\n",
    "        increased += 1\n",
    "    elif i >= BMI_category['a'] and i <= BMI_category['b']:\n",
    "        least += 1\n",
    "    elif i > BMI_category['b'] and i  <= BMI_category['c']:\n",
    "        increased += 1\n",
    "    elif i > BMI_category['c'] and i  <= BMI_category['d']:\n",
    "        high += 1\n",
    "    elif i > BMI_category['d'] and i  <= BMI_category['e']:\n",
    "        very_high += 1\n",
    "    elif i > BMI_category['e']:\n",
    "        extremely_high += 1\n",
    "\n",
    "print('Based on health risk classification according to BMI, currently we have: \\n' + \n",
    "      str(least) + ' clients with least risk of developing health problems,\\n' +\n",
    "      str(increased) + ' clients with increased risk of developing health problems,\\n' +\n",
    "      str(high) + ' clients with high risk of developing health problems,\\n' +\n",
    "      str(very_high) + ' clients with very high risk of developing health problems and \\n' +\n",
    "      str(extremely_high) + ' clients with extremely high risk of developing health problems.')"
   ]
  },
  {
   "cell_type": "code",
   "execution_count": 5,
   "id": "2b494a6c-01ba-4d5e-a057-86f5b0a56923",
   "metadata": {},
   "outputs": [
    {
     "name": "stdout",
     "output_type": "stream",
     "text": [
      "764 of our clients have at least one child and 574 don't.\n"
     ]
    }
   ],
   "source": [
    "#count clients who has children\n",
    "has_children_count = 0\n",
    "no_children = 0\n",
    "\n",
    "for i in children:\n",
    "    if i > 0:\n",
    "        has_children_count += 1\n",
    "    else:\n",
    "        no_children += 1\n",
    "\n",
    "print(str(has_children_count) + ' of our clients have at least one child and ' + str(no_children)  + \" don't.\")"
   ]
  },
  {
   "cell_type": "code",
   "execution_count": 6,
   "id": "eb9a1ab0-d315-4586-a635-52e0d7883c69",
   "metadata": {},
   "outputs": [
    {
     "name": "stdout",
     "output_type": "stream",
     "text": [
      "274 of our clients smoke and 1064 don't.\n"
     ]
    }
   ],
   "source": [
    "#count clients who smoke\n",
    "smoker_count = 0\n",
    "non_smoker_count = 0\n",
    "\n",
    "for i in smoker:\n",
    "    if i == 'yes':\n",
    "        smoker_count += 1\n",
    "    else:\n",
    "        non_smoker_count += 1\n",
    "\n",
    "print(str(smoker_count) + ' of our clients smoke and ' + str(non_smoker_count)  + \" don't.\")"
   ]
  },
  {
   "cell_type": "code",
   "execution_count": 7,
   "id": "d4a34d9b-0d3c-4ef0-aa75-83827cd9bda7",
   "metadata": {},
   "outputs": [
    {
     "name": "stdout",
     "output_type": "stream",
     "text": [
      "We have: \n",
      "324 clients in northeast region,\n",
      "364 clients in southeast region,\n",
      "325 clients in northwest region and \n",
      "325 clients in southwest region.\n"
     ]
    }
   ],
   "source": [
    "#count clients by region\n",
    "northeast_clients = 0\n",
    "southeast_clients = 0\n",
    "northwest_clients = 0\n",
    "southwest_clients = 0\n",
    "for i in region:\n",
    "    if i == 'northeast':\n",
    "        northeast_clients += 1\n",
    "    elif i == 'southeast':\n",
    "        southeast_clients += 1\n",
    "    elif i == 'northwest':\n",
    "        northwest_clients += 1\n",
    "    else:\n",
    "        southwest_clients += 1\n",
    "\n",
    "print('We have: \\n' + \n",
    "      str(northeast_clients) + ' clients in northeast region,\\n' +\n",
    "      str(southeast_clients) + ' clients in southeast region,\\n' +\n",
    "      str(northwest_clients) + ' clients in northwest region and \\n' +\n",
    "      str(southwest_clients) + ' clients in southwest region.')"
   ]
  },
  {
   "cell_type": "code",
   "execution_count": 46,
   "id": "caa8524c-7aa2-4ff9-b3b0-244361f71709",
   "metadata": {},
   "outputs": [
    {
     "name": "stdout",
     "output_type": "stream",
     "text": [
      "The average insurance charge for smoker clients is $32050.23\n",
      "The average insurance charge for non-smoker clients is $8434.27\n"
     ]
    }
   ],
   "source": [
    "#find average charges\n",
    "#make new dictionary with sequence (since there are no name)\n",
    "insurance_dictionary = {}\n",
    "for i in range(len(age)):\n",
    "    insurance_dictionary[i] = {'Age': age[i], \n",
    "                               'Sex': sex[i], \n",
    "                               'BMI': bmi[i], \n",
    "                               'Children': children[i], \n",
    "                               'Smoker': smoker[i], \n",
    "                               'Region': region[i], \n",
    "                               'Charge': charges[i]}\n",
    "\n",
    "#I decide to separate smoker and non-smoker first since at glance this is the biggest contributor to the insurance charge\n",
    "smoker_dictionary = {}\n",
    "non_smoker_dictionary = {}\n",
    "for key, value in insurance_dictionary.items():\n",
    "    if insurance_dictionary[key]['Smoker'] == 'yes':\n",
    "        smoker_dictionary[key] = value\n",
    "    else:\n",
    "        non_smoker_dictionary[key] = value\n",
    "\n",
    "#make function to find average charge from dictionary \n",
    "def find_average(dictionary):\n",
    "    list = []\n",
    "    for i in dictionary:\n",
    "        list.append(dictionary[i]['Charge'])\n",
    "    result = (sum(list)/len(list))\n",
    "    return result\n",
    "\n",
    "#find smoker and non-smoker average charge\n",
    "print('The average insurance charge for smoker clients is $' + str(round(find_average(smoker_dictionary),2)))\n",
    "print('The average insurance charge for non-smoker clients is $' + str(round(find_average(non_smoker_dictionary),2)))"
   ]
  },
  {
   "cell_type": "code",
   "execution_count": 55,
   "id": "f04a8af0-cd73-45d1-bb6f-ee2fafaa9d23",
   "metadata": {},
   "outputs": [
    {
     "name": "stdout",
     "output_type": "stream",
     "text": [
      "The average insurance charge for under 20 years old smoker clients is $25971.18\n",
      "The average insurance charge for 21-30 years old smoker clients is $28612.35\n",
      "The average insurance charge for 31-40 years old smoker clients is $30466.66\n",
      "The average insurance charge for 41-50 years old smoker clients is $33391.83\n",
      "The average insurance charge for 51-60 years old smoker clients is $38762.92\n",
      "The average insurance charge for over 60  years old smoker clients is $38929.62\n",
      "=======================================================================================================\n",
      "The average insurance charge for under 20 years old non-smoker clients is $3413.88\n",
      "The average insurance charge for 21-30 years old non-smoker clients is $5062.09\n",
      "The average insurance charge for 31-40 years old non-smoker clients is $6631.05\n",
      "The average insurance charge for 41-50 years old non-smoker clients is $9622.06\n",
      "The average insurance charge for 51-60 years old non-smoker clients is $12975.18\n",
      "The average insurance charge for over 60  years old non-smoker clients is $15366.61\n"
     ]
    }
   ],
   "source": [
    "#from the smoker and non-smoker dictionaries, I find the average charge by age group (<=20, 21-30, 31-40, 41-50, 51-60 and >60)\n",
    "#smoker group\n",
    "smoker_U20 = {}\n",
    "smoker_21_30 = {}\n",
    "smoker_31_40 = {}\n",
    "smoker_41_50 = {}\n",
    "smoker_51_60 = {}\n",
    "smoker_O60 = {}\n",
    "\n",
    "for key, value in smoker_dictionary.items():\n",
    "    age = smoker_dictionary[key]['Age']\n",
    "    if age <= 20:\n",
    "        smoker_U20[key] = value\n",
    "    elif age > 20 and age <= 30:\n",
    "        smoker_21_30[key] = value\n",
    "    elif age > 30 and age <= 40:\n",
    "        smoker_31_40[key] = value\n",
    "    elif age > 40 and age <= 50:\n",
    "        smoker_41_50[key] = value\n",
    "    elif age > 50 and age <= 60:\n",
    "        smoker_51_60[key] = value\n",
    "    elif age > 60:\n",
    "        smoker_O60[key] = value\n",
    "\n",
    "print('The average insurance charge for under 20 years old smoker clients is $' + str(round(find_average(smoker_U20),2)))\n",
    "print('The average insurance charge for 21-30 years old smoker clients is $' + str(round(find_average(smoker_21_30),2)))\n",
    "print('The average insurance charge for 31-40 years old smoker clients is $' + str(round(find_average(smoker_31_40),2)))\n",
    "print('The average insurance charge for 41-50 years old smoker clients is $' + str(round(find_average(smoker_41_50),2)))\n",
    "print('The average insurance charge for 51-60 years old smoker clients is $' + str(round(find_average(smoker_51_60),2)))\n",
    "print('The average insurance charge for over 60  years old smoker clients is $' + str(round(find_average(smoker_O60),2)))\n",
    "\n",
    "#non-smoker group\n",
    "non_smoker_U20 = {}\n",
    "non_smoker_21_30 = {}\n",
    "non_smoker_31_40 = {}\n",
    "non_smoker_41_50 = {}\n",
    "non_smoker_51_60 = {}\n",
    "non_smoker_O60 = {}\n",
    "\n",
    "for key, value in non_smoker_dictionary.items():\n",
    "    age = non_smoker_dictionary[key]['Age']\n",
    "    if age <= 20:\n",
    "        non_smoker_U20[key] = value\n",
    "    elif age > 20 and age <= 30:\n",
    "        non_smoker_21_30[key] = value\n",
    "    elif age > 30 and age <= 40:\n",
    "        non_smoker_31_40[key] = value\n",
    "    elif age > 40 and age <= 50:\n",
    "        non_smoker_41_50[key] = value\n",
    "    elif age > 50 and age <= 60:\n",
    "        non_smoker_51_60[key] = value\n",
    "    elif age > 60:\n",
    "        non_smoker_O60[key] = value\n",
    "\n",
    "print('=======================================================================================================')\n",
    "print('The average insurance charge for under 20 years old non-smoker clients is $' + str(round(find_average(non_smoker_U20),2)))\n",
    "print('The average insurance charge for 21-30 years old non-smoker clients is $' + str(round(find_average(non_smoker_21_30),2)))\n",
    "print('The average insurance charge for 31-40 years old non-smoker clients is $' + str(round(find_average(non_smoker_31_40),2)))\n",
    "print('The average insurance charge for 41-50 years old non-smoker clients is $' + str(round(find_average(non_smoker_41_50),2)))\n",
    "print('The average insurance charge for 51-60 years old non-smoker clients is $' + str(round(find_average(non_smoker_51_60),2)))\n",
    "print('The average insurance charge for over 60  years old non-smoker clients is $' + str(round(find_average(non_smoker_O60),2)))\n",
    "\n",
    "#Same code can be also applied for other category such as sex group, BMI, whether clients have children or not and also by region."
   ]
  },
  {
   "cell_type": "code",
   "execution_count": 94,
   "id": "c3bedbd1-4a88-4c47-8052-fe96588cc27f",
   "metadata": {},
   "outputs": [
    {
     "name": "stdout",
     "output_type": "stream",
     "text": [
      "╒════════════╤══════════╤══════════════╕\n",
      "│ Category   │   Smoker │   Non-smoker │\n",
      "╞════════════╪══════════╪══════════════╡\n",
      "│ Under 20   │  25971.2 │      3413.88 │\n",
      "├────────────┼──────────┼──────────────┤\n",
      "│ 21-30      │  28612.3 │      5062.09 │\n",
      "├────────────┼──────────┼──────────────┤\n",
      "│ 31-40      │  30466.7 │      6631.05 │\n",
      "├────────────┼──────────┼──────────────┤\n",
      "│ 41-50      │  33391.8 │      9622.06 │\n",
      "├────────────┼──────────┼──────────────┤\n",
      "│ 51-60      │  38762.9 │     12975.2  │\n",
      "├────────────┼──────────┼──────────────┤\n",
      "│ Over 60    │  38929.6 │     15366.6  │\n",
      "╘════════════╧══════════╧══════════════╛\n"
     ]
    }
   ],
   "source": [
    "#comparing the insurance charge between smoker and non-smoker by age group\n",
    "from tabulate import tabulate\n",
    "\n",
    "data = [['Under 20', round(find_average(smoker_U20),2), round(find_average(non_smoker_U20),2)],\n",
    "        ['21-30', round(find_average(smoker_21_30),2), round(find_average(non_smoker_21_30),2)],\n",
    "        ['31-40', round(find_average(smoker_31_40),2), round(find_average(non_smoker_31_40),2)],\n",
    "        ['41-50', round(find_average(smoker_41_50),2), round(find_average(non_smoker_41_50),2)],\n",
    "        ['51-60', round(find_average(smoker_51_60),2), round(find_average(non_smoker_51_60),2)], \n",
    "        ['Over 60', round(find_average(smoker_O60),2), round(find_average(non_smoker_O60),2)]]\n",
    "\n",
    "head = ['Category', 'Smoker', 'Non-smoker']\n",
    "\n",
    "print(tabulate(data, headers=head, tablefmt=\"fancy_grid\"))"
   ]
  },
  {
   "cell_type": "code",
   "execution_count": null,
   "id": "9b2f3bc0-fe01-424d-ba58-e6dc137596f2",
   "metadata": {},
   "outputs": [],
   "source": []
  }
 ],
 "metadata": {
  "kernelspec": {
   "display_name": "Python 3 (ipykernel)",
   "language": "python",
   "name": "python3"
  },
  "language_info": {
   "codemirror_mode": {
    "name": "ipython",
    "version": 3
   },
   "file_extension": ".py",
   "mimetype": "text/x-python",
   "name": "python",
   "nbconvert_exporter": "python",
   "pygments_lexer": "ipython3",
   "version": "3.11.6"
  }
 },
 "nbformat": 4,
 "nbformat_minor": 5
}
